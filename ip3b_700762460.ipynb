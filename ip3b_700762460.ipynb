{
 "cells": [
  {
   "cell_type": "code",
   "execution_count": null,
   "metadata": {},
   "outputs": [
    {
     "name": "stdout",
     "output_type": "stream",
     "text": [
      "Basic Statistical Description:\n",
      "          Duration       Pulse    Maxpulse     Calories\n",
      "count  169.000000  169.000000  169.000000   164.000000\n",
      "mean    63.846154  107.461538  134.047337   375.790244\n",
      "std     42.299949   14.510259   16.450434   266.379919\n",
      "min     15.000000   80.000000  100.000000    50.300000\n",
      "25%     45.000000  100.000000  124.000000   250.925000\n",
      "50%     60.000000  105.000000  131.000000   318.600000\n",
      "75%     60.000000  111.000000  141.000000   387.600000\n",
      "max    300.000000  159.000000  184.000000  1860.400000\n",
      "\n",
      "Null Values:\n",
      " Duration    0\n",
      "Pulse       0\n",
      "Maxpulse    0\n",
      "Calories    5\n",
      "dtype: int64\n",
      "\n",
      "Aggregated Data:\n",
      "          Duration     Calories\n",
      "min     15.000000    50.300000\n",
      "max    300.000000  1860.400000\n",
      "count  169.000000   169.000000\n",
      "mean    63.846154   375.790244\n",
      "\n",
      "DataFrame with Calories as int:\n",
      "      Duration  Pulse  Calories\n",
      "0          60    110       409\n",
      "1          60    117       479\n",
      "2          60    103       340\n",
      "3          45    109       282\n",
      "4          45    117       406\n",
      "..        ...    ...       ...\n",
      "164        60    105       290\n",
      "165        60    110       300\n",
      "166        60    115       310\n",
      "167        75    120       320\n",
      "168        75    125       330\n",
      "\n",
      "[169 rows x 3 columns]\n"
     ]
    }
   ],
   "source": [
    "import pandas as pd\n",
    "\n",
    "# 1. Read the provided CSV file ‘data.csv’\n",
    "file_path = 'data.csv'\n",
    "df = pd.read_csv('data.csv')\n",
    "\n",
    "# 2. Show the basic statistical description about the data\n",
    "stat_description = df.describe()\n",
    "print(\"Basic Statistical Description:\\n\", stat_description)\n",
    "\n",
    "# 3. Check if the data has null values\n",
    "null_values = df.isnull().sum()\n",
    "print(\"\\nNull Values:\\n\", null_values)\n",
    "\n",
    "# a. Replace the null values with the mean\n",
    "df.fillna(df.mean(), inplace=True)\n",
    "\n",
    "# 4. Select at least two columns and aggregate the data using: min, max, count, mean\n",
    "aggregated_data = df[['Duration', 'Calories']].agg(['min', 'max', 'count', 'mean'])\n",
    "print(\"\\nAggregated Data:\\n\", aggregated_data)\n",
    "\n",
    "# 5. Filter the dataframe to select the rows with calories values between 500 and 1000\n",
    "filtered_df_500_1000 = df[(df['Calories'] >= 500) & (df['Calories'] <= 1000)]\n",
    "\n",
    "# 6. Filter the dataframe to select the rows with calories values > 500 and pulse < 100\n",
    "filtered_df_500_pulse_100 = df[(df['Calories'] > 500) & (df['Pulse'] < 100)]\n",
    "\n",
    "# 7. Create a new “df_modified” dataframe that contains all the columns from df except for “Maxpulse”\n",
    "df_modified = df.drop(columns=['Maxpulse'])\n",
    "\n",
    "# 8. Delete the “Maxpulse” column from the main df dataframe\n",
    "df.drop(columns=['Maxpulse'], inplace=True)\n",
    "\n",
    "# 9. Convert the datatype of Calories column to int datatype\n",
    "df['Calories'] = df['Calories'].astype(int)\n",
    "print(\"\\nDataFrame with Calories as int:\\n\", df)\n"
   ]
  }
 ],
 "metadata": {
  "kernelspec": {
   "display_name": "base",
   "language": "python",
   "name": "python3"
  },
  "language_info": {
   "codemirror_mode": {
    "name": "ipython",
    "version": 3
   },
   "file_extension": ".py",
   "mimetype": "text/x-python",
   "name": "python",
   "nbconvert_exporter": "python",
   "pygments_lexer": "ipython3",
   "version": "3.11.5"
  }
 },
 "nbformat": 4,
 "nbformat_minor": 2
}
